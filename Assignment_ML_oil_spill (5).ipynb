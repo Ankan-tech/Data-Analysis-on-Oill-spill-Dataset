{
 "cells": [
  {
   "cell_type": "markdown",
   "metadata": {},
   "source": [
    "#### Import Libraries"
   ]
  },
  {
   "cell_type": "code",
   "execution_count": 1,
   "metadata": {},
   "outputs": [],
   "source": [
    "import pandas as pd\n",
    "#pandas alies as pd\n",
    "import numpy as np\n",
    "#numpy alies as np\n",
    "import matplotlib.pyplot as plt\n",
    "#matplotlib alies as plt\n",
    "import seaborn as sns\n",
    "#seaborn alies as sns"
   ]
  },
  {
   "cell_type": "markdown",
   "metadata": {},
   "source": [
    "#### load the dataset"
   ]
  },
  {
   "cell_type": "code",
   "execution_count": 2,
   "metadata": {},
   "outputs": [
    {
     "data": {
      "text/html": [
       "<div>\n",
       "<style scoped>\n",
       "    .dataframe tbody tr th:only-of-type {\n",
       "        vertical-align: middle;\n",
       "    }\n",
       "\n",
       "    .dataframe tbody tr th {\n",
       "        vertical-align: top;\n",
       "    }\n",
       "\n",
       "    .dataframe thead th {\n",
       "        text-align: right;\n",
       "    }\n",
       "</style>\n",
       "<table border=\"1\" class=\"dataframe\">\n",
       "  <thead>\n",
       "    <tr style=\"text-align: right;\">\n",
       "      <th></th>\n",
       "      <th>f_1</th>\n",
       "      <th>f_2</th>\n",
       "      <th>f_3</th>\n",
       "      <th>f_4</th>\n",
       "      <th>f_5</th>\n",
       "      <th>f_6</th>\n",
       "      <th>f_7</th>\n",
       "      <th>f_8</th>\n",
       "      <th>f_9</th>\n",
       "      <th>f_10</th>\n",
       "      <th>...</th>\n",
       "      <th>f_41</th>\n",
       "      <th>f_42</th>\n",
       "      <th>f_43</th>\n",
       "      <th>f_44</th>\n",
       "      <th>f_45</th>\n",
       "      <th>f_46</th>\n",
       "      <th>f_47</th>\n",
       "      <th>f_48</th>\n",
       "      <th>f_49</th>\n",
       "      <th>target</th>\n",
       "    </tr>\n",
       "  </thead>\n",
       "  <tbody>\n",
       "    <tr>\n",
       "      <th>0</th>\n",
       "      <td>1</td>\n",
       "      <td>2558</td>\n",
       "      <td>1506.09</td>\n",
       "      <td>456.63</td>\n",
       "      <td>90</td>\n",
       "      <td>6395000</td>\n",
       "      <td>40.88</td>\n",
       "      <td>7.89</td>\n",
       "      <td>29780.0</td>\n",
       "      <td>0.19</td>\n",
       "      <td>...</td>\n",
       "      <td>2850.00</td>\n",
       "      <td>1000.00</td>\n",
       "      <td>763.16</td>\n",
       "      <td>135.46</td>\n",
       "      <td>3.73</td>\n",
       "      <td>0</td>\n",
       "      <td>33243.19</td>\n",
       "      <td>65.74</td>\n",
       "      <td>7.95</td>\n",
       "      <td>1</td>\n",
       "    </tr>\n",
       "    <tr>\n",
       "      <th>1</th>\n",
       "      <td>2</td>\n",
       "      <td>22325</td>\n",
       "      <td>79.11</td>\n",
       "      <td>841.03</td>\n",
       "      <td>180</td>\n",
       "      <td>55812500</td>\n",
       "      <td>51.11</td>\n",
       "      <td>1.21</td>\n",
       "      <td>61900.0</td>\n",
       "      <td>0.02</td>\n",
       "      <td>...</td>\n",
       "      <td>5750.00</td>\n",
       "      <td>11500.00</td>\n",
       "      <td>9593.48</td>\n",
       "      <td>1648.80</td>\n",
       "      <td>0.60</td>\n",
       "      <td>0</td>\n",
       "      <td>51572.04</td>\n",
       "      <td>65.73</td>\n",
       "      <td>6.26</td>\n",
       "      <td>0</td>\n",
       "    </tr>\n",
       "    <tr>\n",
       "      <th>2</th>\n",
       "      <td>3</td>\n",
       "      <td>115</td>\n",
       "      <td>1449.85</td>\n",
       "      <td>608.43</td>\n",
       "      <td>88</td>\n",
       "      <td>287500</td>\n",
       "      <td>40.42</td>\n",
       "      <td>7.34</td>\n",
       "      <td>3340.0</td>\n",
       "      <td>0.18</td>\n",
       "      <td>...</td>\n",
       "      <td>1400.00</td>\n",
       "      <td>250.00</td>\n",
       "      <td>150.00</td>\n",
       "      <td>45.13</td>\n",
       "      <td>9.33</td>\n",
       "      <td>1</td>\n",
       "      <td>31692.84</td>\n",
       "      <td>65.81</td>\n",
       "      <td>7.84</td>\n",
       "      <td>1</td>\n",
       "    </tr>\n",
       "    <tr>\n",
       "      <th>3</th>\n",
       "      <td>4</td>\n",
       "      <td>1201</td>\n",
       "      <td>1562.53</td>\n",
       "      <td>295.65</td>\n",
       "      <td>66</td>\n",
       "      <td>3002500</td>\n",
       "      <td>42.40</td>\n",
       "      <td>7.97</td>\n",
       "      <td>18030.0</td>\n",
       "      <td>0.19</td>\n",
       "      <td>...</td>\n",
       "      <td>6041.52</td>\n",
       "      <td>761.58</td>\n",
       "      <td>453.21</td>\n",
       "      <td>144.97</td>\n",
       "      <td>13.33</td>\n",
       "      <td>1</td>\n",
       "      <td>37696.21</td>\n",
       "      <td>65.67</td>\n",
       "      <td>8.07</td>\n",
       "      <td>1</td>\n",
       "    </tr>\n",
       "    <tr>\n",
       "      <th>4</th>\n",
       "      <td>5</td>\n",
       "      <td>312</td>\n",
       "      <td>950.27</td>\n",
       "      <td>440.86</td>\n",
       "      <td>37</td>\n",
       "      <td>780000</td>\n",
       "      <td>41.43</td>\n",
       "      <td>7.03</td>\n",
       "      <td>3350.0</td>\n",
       "      <td>0.17</td>\n",
       "      <td>...</td>\n",
       "      <td>1320.04</td>\n",
       "      <td>710.63</td>\n",
       "      <td>512.54</td>\n",
       "      <td>109.16</td>\n",
       "      <td>2.58</td>\n",
       "      <td>0</td>\n",
       "      <td>29038.17</td>\n",
       "      <td>65.66</td>\n",
       "      <td>7.35</td>\n",
       "      <td>0</td>\n",
       "    </tr>\n",
       "  </tbody>\n",
       "</table>\n",
       "<p>5 rows × 50 columns</p>\n",
       "</div>"
      ],
      "text/plain": [
       "   f_1    f_2      f_3     f_4  f_5       f_6    f_7   f_8      f_9  f_10  \\\n",
       "0    1   2558  1506.09  456.63   90   6395000  40.88  7.89  29780.0  0.19   \n",
       "1    2  22325    79.11  841.03  180  55812500  51.11  1.21  61900.0  0.02   \n",
       "2    3    115  1449.85  608.43   88    287500  40.42  7.34   3340.0  0.18   \n",
       "3    4   1201  1562.53  295.65   66   3002500  42.40  7.97  18030.0  0.19   \n",
       "4    5    312   950.27  440.86   37    780000  41.43  7.03   3350.0  0.17   \n",
       "\n",
       "   ...     f_41      f_42     f_43     f_44   f_45  f_46      f_47   f_48  \\\n",
       "0  ...  2850.00   1000.00   763.16   135.46   3.73     0  33243.19  65.74   \n",
       "1  ...  5750.00  11500.00  9593.48  1648.80   0.60     0  51572.04  65.73   \n",
       "2  ...  1400.00    250.00   150.00    45.13   9.33     1  31692.84  65.81   \n",
       "3  ...  6041.52    761.58   453.21   144.97  13.33     1  37696.21  65.67   \n",
       "4  ...  1320.04    710.63   512.54   109.16   2.58     0  29038.17  65.66   \n",
       "\n",
       "   f_49  target  \n",
       "0  7.95       1  \n",
       "1  6.26       0  \n",
       "2  7.84       1  \n",
       "3  8.07       1  \n",
       "4  7.35       0  \n",
       "\n",
       "[5 rows x 50 columns]"
      ]
     },
     "execution_count": 2,
     "metadata": {},
     "output_type": "execute_result"
    }
   ],
   "source": [
    "df=pd.read_csv('oil_spill.csv')\n",
    "df.head()"
   ]
  },
  {
   "cell_type": "markdown",
   "metadata": {},
   "source": [
    "#### Information of Data"
   ]
  },
  {
   "cell_type": "code",
   "execution_count": 3,
   "metadata": {},
   "outputs": [
    {
     "data": {
      "text/plain": [
       "(937, 50)"
      ]
     },
     "execution_count": 3,
     "metadata": {},
     "output_type": "execute_result"
    }
   ],
   "source": [
    "df.shape"
   ]
  },
  {
   "cell_type": "code",
   "execution_count": 4,
   "metadata": {},
   "outputs": [
    {
     "data": {
      "text/plain": [
       "Index(['f_1', 'f_2', 'f_3', 'f_4', 'f_5', 'f_6', 'f_7', 'f_8', 'f_9', 'f_10',\n",
       "       'f_11', 'f_12', 'f_13', 'f_14', 'f_15', 'f_16', 'f_17', 'f_18', 'f_19',\n",
       "       'f_20', 'f_21', 'f_22', 'f_23', 'f_24', 'f_25', 'f_26', 'f_27', 'f_28',\n",
       "       'f_29', 'f_30', 'f_31', 'f_32', 'f_33', 'f_34', 'f_35', 'f_36', 'f_37',\n",
       "       'f_38', 'f_39', 'f_40', 'f_41', 'f_42', 'f_43', 'f_44', 'f_45', 'f_46',\n",
       "       'f_47', 'f_48', 'f_49', 'target'],\n",
       "      dtype='object')"
      ]
     },
     "execution_count": 4,
     "metadata": {},
     "output_type": "execute_result"
    }
   ],
   "source": [
    "df.columns"
   ]
  },
  {
   "cell_type": "code",
   "execution_count": 5,
   "metadata": {},
   "outputs": [
    {
     "name": "stdout",
     "output_type": "stream",
     "text": [
      "<class 'pandas.core.frame.DataFrame'>\n",
      "RangeIndex: 937 entries, 0 to 936\n",
      "Data columns (total 50 columns):\n",
      "f_1       937 non-null int64\n",
      "f_2       937 non-null int64\n",
      "f_3       937 non-null float64\n",
      "f_4       937 non-null float64\n",
      "f_5       937 non-null int64\n",
      "f_6       937 non-null int64\n",
      "f_7       937 non-null float64\n",
      "f_8       937 non-null float64\n",
      "f_9       937 non-null float64\n",
      "f_10      937 non-null float64\n",
      "f_11      937 non-null float64\n",
      "f_12      937 non-null float64\n",
      "f_13      937 non-null float64\n",
      "f_14      937 non-null float64\n",
      "f_15      937 non-null float64\n",
      "f_16      937 non-null float64\n",
      "f_17      937 non-null float64\n",
      "f_18      937 non-null float64\n",
      "f_19      937 non-null float64\n",
      "f_20      937 non-null float64\n",
      "f_21      937 non-null float64\n",
      "f_22      937 non-null float64\n",
      "f_23      937 non-null int64\n",
      "f_24      937 non-null float64\n",
      "f_25      937 non-null float64\n",
      "f_26      937 non-null float64\n",
      "f_27      937 non-null float64\n",
      "f_28      937 non-null float64\n",
      "f_29      937 non-null float64\n",
      "f_30      937 non-null float64\n",
      "f_31      937 non-null float64\n",
      "f_32      937 non-null float64\n",
      "f_33      937 non-null float64\n",
      "f_34      937 non-null float64\n",
      "f_35      937 non-null int64\n",
      "f_36      937 non-null int64\n",
      "f_37      937 non-null float64\n",
      "f_38      937 non-null float64\n",
      "f_39      937 non-null int64\n",
      "f_40      937 non-null int64\n",
      "f_41      937 non-null float64\n",
      "f_42      937 non-null float64\n",
      "f_43      937 non-null float64\n",
      "f_44      937 non-null float64\n",
      "f_45      937 non-null float64\n",
      "f_46      937 non-null int64\n",
      "f_47      937 non-null float64\n",
      "f_48      937 non-null float64\n",
      "f_49      937 non-null float64\n",
      "target    937 non-null int64\n",
      "dtypes: float64(39), int64(11)\n",
      "memory usage: 366.1 KB\n"
     ]
    }
   ],
   "source": [
    "df.info()"
   ]
  },
  {
   "cell_type": "markdown",
   "metadata": {},
   "source": [
    "#### Handling the null values"
   ]
  },
  {
   "cell_type": "code",
   "execution_count": 6,
   "metadata": {},
   "outputs": [
    {
     "data": {
      "text/plain": [
       "Series([], dtype: int64)"
      ]
     },
     "execution_count": 6,
     "metadata": {},
     "output_type": "execute_result"
    }
   ],
   "source": [
    "nv=df.isnull().sum()\n",
    "nv[nv>0]"
   ]
  },
  {
   "cell_type": "markdown",
   "metadata": {},
   "source": [
    "#### checking the datatype"
   ]
  },
  {
   "cell_type": "code",
   "execution_count": 7,
   "metadata": {},
   "outputs": [
    {
     "data": {
      "text/plain": [
       "float64    39\n",
       "int64      11\n",
       "dtype: int64"
      ]
     },
     "execution_count": 7,
     "metadata": {},
     "output_type": "execute_result"
    }
   ],
   "source": [
    "df.dtypes.value_counts()"
   ]
  },
  {
   "cell_type": "markdown",
   "metadata": {},
   "source": [
    "#### Feature Scaling"
   ]
  },
  {
   "cell_type": "code",
   "execution_count": 8,
   "metadata": {},
   "outputs": [],
   "source": [
    "from sklearn.preprocessing import StandardScaler"
   ]
  },
  {
   "cell_type": "code",
   "execution_count": 9,
   "metadata": {},
   "outputs": [],
   "source": [
    "Feature=df.loc[:,'f_2':'f_49']\n",
    "scaler=StandardScaler()\n",
    "scaled_feature=scaler.fit_transform(Feature)"
   ]
  },
  {
   "cell_type": "markdown",
   "metadata": {},
   "source": [
    "#### Extracting categorical columns"
   ]
  },
  {
   "cell_type": "code",
   "execution_count": 10,
   "metadata": {},
   "outputs": [
    {
     "name": "stdout",
     "output_type": "stream",
     "text": [
      "Series([], dtype: object)\n"
     ]
    }
   ],
   "source": [
    "cat_col=df.dtypes[df.dtypes=='object']\n",
    "print(cat_col)"
   ]
  },
  {
   "cell_type": "markdown",
   "metadata": {},
   "source": [
    "#### checking the target Variables"
   ]
  },
  {
   "cell_type": "code",
   "execution_count": 11,
   "metadata": {},
   "outputs": [
    {
     "data": {
      "text/plain": [
       "0    896\n",
       "1     41\n",
       "Name: target, dtype: int64"
      ]
     },
     "execution_count": 11,
     "metadata": {},
     "output_type": "execute_result"
    }
   ],
   "source": [
    "df['target'].value_counts()"
   ]
  },
  {
   "cell_type": "code",
   "execution_count": 12,
   "metadata": {},
   "outputs": [],
   "source": [
    "#1)As we can see from the above information that there is no null values.\n",
    "#2)and also there is no columns with datatype ->object.\n",
    "\n",
    "#So we can conclude that there is no need of Data cleaning and data preprocessing\n"
   ]
  },
  {
   "cell_type": "markdown",
   "metadata": {},
   "source": [
    "#### Correlation"
   ]
  },
  {
   "cell_type": "code",
   "execution_count": 13,
   "metadata": {},
   "outputs": [
    {
     "data": {
      "image/png": "[encoded data removed]",
      "text/plain": [
       "<Figure size 1440x1440 with 2 Axes>"
      ]
     },
     "metadata": {},
     "output_type": "display_data"
    }
   ],
   "source": [
    "corr=df.corr()\n",
    "sns.set(rc={'figure.figsize':(20,20)})\n",
    "corr=corr[abs(corr)>=0.7]\n",
    "sns.heatmap(corr,annot=True,cmap='coolwarm')\n",
    "plt.show()"
   ]
  },
  {
   "cell_type": "markdown",
   "metadata": {},
   "source": [
    "#### Selecting Dependent and independent Features"
   ]
  },
  {
   "cell_type": "code",
   "execution_count": 14,
   "metadata": {},
   "outputs": [
    {
     "name": "stdout",
     "output_type": "stream",
     "text": [
      "<class 'pandas.core.frame.DataFrame'>\n",
      "<class 'pandas.core.series.Series'>\n",
      "(937, 49)\n",
      "(937,)\n"
     ]
    }
   ],
   "source": [
    "x=df.drop(['target'],axis=1)\n",
    "y=df['target']\n",
    "print(type(x))\n",
    "print(type(y))\n",
    "print(x.shape)\n",
    "print(y.shape)"
   ]
  },
  {
   "cell_type": "markdown",
   "metadata": {},
   "source": [
    "#### Splitting Data into training and test Data"
   ]
  },
  {
   "cell_type": "code",
   "execution_count": 15,
   "metadata": {},
   "outputs": [
    {
     "name": "stdout",
     "output_type": "stream",
     "text": [
      "(749, 49)\n",
      "(188, 49)\n",
      "(749,)\n",
      "(188,)\n"
     ]
    }
   ],
   "source": [
    "from sklearn.model_selection import train_test_split\n",
    "x_train,x_test,y_train,y_test=train_test_split(x,y,test_size=0.2,random_state=100)\n",
    "print(x_train.shape)\n",
    "print(x_test.shape)\n",
    "print(y_train.shape)\n",
    "print(y_test.shape)"
   ]
  },
  {
   "cell_type": "code",
   "execution_count": null,
   "metadata": {},
   "outputs": [],
   "source": []
  },
  {
   "cell_type": "code",
   "execution_count": 16,
   "metadata": {},
   "outputs": [
    {
     "name": "stdout",
     "output_type": "stream",
     "text": [
      "<class 'pandas.core.frame.DataFrame'> <class 'pandas.core.frame.DataFrame'>\n",
      "<class 'pandas.core.series.Series'> <class 'pandas.core.series.Series'>\n"
     ]
    }
   ],
   "source": [
    "print(type(x_train),type(x_test))\n",
    "print(type(y_train),type(y_test))"
   ]
  },
  {
   "cell_type": "code",
   "execution_count": 17,
   "metadata": {},
   "outputs": [
    {
     "data": {
      "text/html": [
       "<div>\n",
       "<style scoped>\n",
       "    .dataframe tbody tr th:only-of-type {\n",
       "        vertical-align: middle;\n",
       "    }\n",
       "\n",
       "    .dataframe tbody tr th {\n",
       "        vertical-align: top;\n",
       "    }\n",
       "\n",
       "    .dataframe thead th {\n",
       "        text-align: right;\n",
       "    }\n",
       "</style>\n",
       "<table border=\"1\" class=\"dataframe\">\n",
       "  <thead>\n",
       "    <tr style=\"text-align: right;\">\n",
       "      <th></th>\n",
       "      <th>f_1</th>\n",
       "      <th>f_2</th>\n",
       "      <th>f_3</th>\n",
       "      <th>f_4</th>\n",
       "      <th>f_5</th>\n",
       "      <th>f_6</th>\n",
       "      <th>f_7</th>\n",
       "      <th>f_8</th>\n",
       "      <th>f_9</th>\n",
       "      <th>f_10</th>\n",
       "      <th>...</th>\n",
       "      <th>f_40</th>\n",
       "      <th>f_41</th>\n",
       "      <th>f_42</th>\n",
       "      <th>f_43</th>\n",
       "      <th>f_44</th>\n",
       "      <th>f_45</th>\n",
       "      <th>f_46</th>\n",
       "      <th>f_47</th>\n",
       "      <th>f_48</th>\n",
       "      <th>f_49</th>\n",
       "    </tr>\n",
       "  </thead>\n",
       "  <tbody>\n",
       "    <tr>\n",
       "      <th>710</th>\n",
       "      <td>63</td>\n",
       "      <td>15</td>\n",
       "      <td>114.20</td>\n",
       "      <td>623.27</td>\n",
       "      <td>172</td>\n",
       "      <td>121500</td>\n",
       "      <td>74.27</td>\n",
       "      <td>9.33</td>\n",
       "      <td>1191.0</td>\n",
       "      <td>0.13</td>\n",
       "      <td>...</td>\n",
       "      <td>73</td>\n",
       "      <td>636.40</td>\n",
       "      <td>180.00</td>\n",
       "      <td>90.00</td>\n",
       "      <td>73.48</td>\n",
       "      <td>7.07</td>\n",
       "      <td>0</td>\n",
       "      <td>3249.90</td>\n",
       "      <td>66.20</td>\n",
       "      <td>6.20</td>\n",
       "    </tr>\n",
       "    <tr>\n",
       "      <th>779</th>\n",
       "      <td>47</td>\n",
       "      <td>16</td>\n",
       "      <td>226.81</td>\n",
       "      <td>287.06</td>\n",
       "      <td>73</td>\n",
       "      <td>129600</td>\n",
       "      <td>47.81</td>\n",
       "      <td>5.01</td>\n",
       "      <td>1461.0</td>\n",
       "      <td>0.10</td>\n",
       "      <td>...</td>\n",
       "      <td>50</td>\n",
       "      <td>742.16</td>\n",
       "      <td>90.00</td>\n",
       "      <td>67.50</td>\n",
       "      <td>41.66</td>\n",
       "      <td>10.99</td>\n",
       "      <td>1</td>\n",
       "      <td>7894.38</td>\n",
       "      <td>65.80</td>\n",
       "      <td>6.89</td>\n",
       "    </tr>\n",
       "    <tr>\n",
       "      <th>174</th>\n",
       "      <td>166</td>\n",
       "      <td>99</td>\n",
       "      <td>1708.19</td>\n",
       "      <td>1232.37</td>\n",
       "      <td>146</td>\n",
       "      <td>247500</td>\n",
       "      <td>36.68</td>\n",
       "      <td>8.16</td>\n",
       "      <td>2910.0</td>\n",
       "      <td>0.22</td>\n",
       "      <td>...</td>\n",
       "      <td>55</td>\n",
       "      <td>651.92</td>\n",
       "      <td>430.12</td>\n",
       "      <td>295.52</td>\n",
       "      <td>99.67</td>\n",
       "      <td>2.21</td>\n",
       "      <td>0</td>\n",
       "      <td>4056.61</td>\n",
       "      <td>66.17</td>\n",
       "      <td>8.01</td>\n",
       "    </tr>\n",
       "    <tr>\n",
       "      <th>405</th>\n",
       "      <td>138</td>\n",
       "      <td>130</td>\n",
       "      <td>1355.46</td>\n",
       "      <td>1068.25</td>\n",
       "      <td>91</td>\n",
       "      <td>325000</td>\n",
       "      <td>37.44</td>\n",
       "      <td>8.13</td>\n",
       "      <td>2990.0</td>\n",
       "      <td>0.22</td>\n",
       "      <td>...</td>\n",
       "      <td>63</td>\n",
       "      <td>900.00</td>\n",
       "      <td>550.00</td>\n",
       "      <td>305.56</td>\n",
       "      <td>136.00</td>\n",
       "      <td>2.95</td>\n",
       "      <td>0</td>\n",
       "      <td>5486.65</td>\n",
       "      <td>66.01</td>\n",
       "      <td>7.59</td>\n",
       "    </tr>\n",
       "    <tr>\n",
       "      <th>796</th>\n",
       "      <td>64</td>\n",
       "      <td>12</td>\n",
       "      <td>18.25</td>\n",
       "      <td>389.17</td>\n",
       "      <td>60</td>\n",
       "      <td>97200</td>\n",
       "      <td>48.25</td>\n",
       "      <td>7.64</td>\n",
       "      <td>1138.0</td>\n",
       "      <td>0.16</td>\n",
       "      <td>...</td>\n",
       "      <td>50</td>\n",
       "      <td>649.00</td>\n",
       "      <td>127.28</td>\n",
       "      <td>21.21</td>\n",
       "      <td>51.96</td>\n",
       "      <td>30.59</td>\n",
       "      <td>1</td>\n",
       "      <td>2338.89</td>\n",
       "      <td>65.85</td>\n",
       "      <td>6.13</td>\n",
       "    </tr>\n",
       "  </tbody>\n",
       "</table>\n",
       "<p>5 rows × 49 columns</p>\n",
       "</div>"
      ],
      "text/plain": [
       "     f_1  f_2      f_3      f_4  f_5     f_6    f_7   f_8     f_9  f_10  ...  \\\n",
       "710   63   15   114.20   623.27  172  121500  74.27  9.33  1191.0  0.13  ...   \n",
       "779   47   16   226.81   287.06   73  129600  47.81  5.01  1461.0  0.10  ...   \n",
       "174  166   99  1708.19  1232.37  146  247500  36.68  8.16  2910.0  0.22  ...   \n",
       "405  138  130  1355.46  1068.25   91  325000  37.44  8.13  2990.0  0.22  ...   \n",
       "796   64   12    18.25   389.17   60   97200  48.25  7.64  1138.0  0.16  ...   \n",
       "\n",
       "     f_40    f_41    f_42    f_43    f_44   f_45  f_46     f_47   f_48  f_49  \n",
       "710    73  636.40  180.00   90.00   73.48   7.07     0  3249.90  66.20  6.20  \n",
       "779    50  742.16   90.00   67.50   41.66  10.99     1  7894.38  65.80  6.89  \n",
       "174    55  651.92  430.12  295.52   99.67   2.21     0  4056.61  66.17  8.01  \n",
       "405    63  900.00  550.00  305.56  136.00   2.95     0  5486.65  66.01  7.59  \n",
       "796    50  649.00  127.28   21.21   51.96  30.59     1  2338.89  65.85  6.13  \n",
       "\n",
       "[5 rows x 49 columns]"
      ]
     },
     "execution_count": 17,
     "metadata": {},
     "output_type": "execute_result"
    }
   ],
   "source": [
    "x_train.head()"
   ]
  },
  {
   "cell_type": "code",
   "execution_count": 18,
   "metadata": {},
   "outputs": [
    {
     "data": {
      "text/plain": [
       "710    0\n",
       "779    1\n",
       "174    0\n",
       "405    0\n",
       "796    0\n",
       "Name: target, dtype: int64"
      ]
     },
     "execution_count": 18,
     "metadata": {},
     "output_type": "execute_result"
    }
   ],
   "source": [
    "y_train.head()"
   ]
  },
  {
   "cell_type": "markdown",
   "metadata": {},
   "source": [
    "#### Creating a function to generate Regession Metrics"
   ]
  },
  {
   "cell_type": "code",
   "execution_count": 19,
   "metadata": {},
   "outputs": [],
   "source": [
    "from sklearn.metrics import mean_absolute_error,mean_squared_error,r2_score\n",
    "def reg_eval_metrics(y,ypred):\n",
    "    mae=mean_absolute_error(y,ypred)\n",
    "    mse=mean_squared_error(y,ypred)\n",
    "    rmse=np.sqrt(mean_squared_error(y,ypred))\n",
    "    r2sc=r2_score(y,ypred)\n",
    "    print('mae',mae)\n",
    "    print('mse',mse)\n",
    "    print('rmse',rmse)\n",
    "    print('r2score',r2sc)\n",
    "    \n",
    "#r2 score for training testing data\n",
    "def train_test_scr(model):\n",
    "    print('Training Score',model.score(x_train,y_train))\n",
    "    print('Testing Score',model.score(x_test,y_test))"
   ]
  },
  {
   "cell_type": "markdown",
   "metadata": {},
   "source": [
    "#### Linear Regression"
   ]
  },
  {
   "cell_type": "code",
   "execution_count": 20,
   "metadata": {},
   "outputs": [],
   "source": [
    "from sklearn.linear_model import LinearRegression,Lasso,Ridge"
   ]
  },
  {
   "cell_type": "code",
   "execution_count": 21,
   "metadata": {},
   "outputs": [
    {
     "data": {
      "text/plain": [
       "LinearRegression()"
      ]
     },
     "execution_count": 21,
     "metadata": {},
     "output_type": "execute_result"
    }
   ],
   "source": [
    "m1=LinearRegression()\n",
    "m1.fit(x_train,y_train)"
   ]
  },
  {
   "cell_type": "markdown",
   "metadata": {},
   "source": [
    "#### generate the Prediction"
   ]
  },
  {
   "cell_type": "code",
   "execution_count": 22,
   "metadata": {},
   "outputs": [],
   "source": [
    "ypred=m1.predict(x_test)"
   ]
  },
  {
   "cell_type": "code",
   "execution_count": 23,
   "metadata": {},
   "outputs": [
    {
     "name": "stdout",
     "output_type": "stream",
     "text": [
      "Training Score 0.4411780330582018\n",
      "Testing Score 0.28186333982838796\n"
     ]
    }
   ],
   "source": [
    "train_test_scr(m1)"
   ]
  },
  {
   "cell_type": "code",
   "execution_count": 24,
   "metadata": {},
   "outputs": [
    {
     "name": "stdout",
     "output_type": "stream",
     "text": [
      "mae 0.08670561576222245\n",
      "mse 0.032733085093268076\n",
      "rmse 0.18092287056441503\n",
      "r2score 0.28186333982838796\n"
     ]
    }
   ],
   "source": [
    "reg_eval_metrics(y_test,ypred)"
   ]
  },
  {
   "cell_type": "code",
   "execution_count": 25,
   "metadata": {},
   "outputs": [],
   "source": [
    "df1=pd.DataFrame()"
   ]
  },
  {
   "cell_type": "code",
   "execution_count": 26,
   "metadata": {},
   "outputs": [
    {
     "data": {
      "text/html": [
       "<div>\n",
       "<style scoped>\n",
       "    .dataframe tbody tr th:only-of-type {\n",
       "        vertical-align: middle;\n",
       "    }\n",
       "\n",
       "    .dataframe tbody tr th {\n",
       "        vertical-align: top;\n",
       "    }\n",
       "\n",
       "    .dataframe thead th {\n",
       "        text-align: right;\n",
       "    }\n",
       "</style>\n",
       "<table border=\"1\" class=\"dataframe\">\n",
       "  <thead>\n",
       "    <tr style=\"text-align: right;\">\n",
       "      <th></th>\n",
       "      <th>y predict</th>\n",
       "    </tr>\n",
       "  </thead>\n",
       "  <tbody>\n",
       "    <tr>\n",
       "      <th>0</th>\n",
       "      <td>-0.064981</td>\n",
       "    </tr>\n",
       "    <tr>\n",
       "      <th>1</th>\n",
       "      <td>-0.001271</td>\n",
       "    </tr>\n",
       "    <tr>\n",
       "      <th>2</th>\n",
       "      <td>0.097940</td>\n",
       "    </tr>\n",
       "    <tr>\n",
       "      <th>3</th>\n",
       "      <td>-0.007096</td>\n",
       "    </tr>\n",
       "    <tr>\n",
       "      <th>4</th>\n",
       "      <td>0.137194</td>\n",
       "    </tr>\n",
       "  </tbody>\n",
       "</table>\n",
       "</div>"
      ],
      "text/plain": [
       "   y predict\n",
       "0  -0.064981\n",
       "1  -0.001271\n",
       "2   0.097940\n",
       "3  -0.007096\n",
       "4   0.137194"
      ]
     },
     "execution_count": 26,
     "metadata": {},
     "output_type": "execute_result"
    }
   ],
   "source": [
    "df1['y predict']=ypred\n",
    "df1.head()"
   ]
  },
  {
   "cell_type": "markdown",
   "metadata": {},
   "source": [
    "#### Lasso Regression"
   ]
  },
  {
   "cell_type": "code",
   "execution_count": 27,
   "metadata": {},
   "outputs": [
    {
     "data": {
      "text/plain": [
       "Lasso(alpha=10)"
      ]
     },
     "execution_count": 27,
     "metadata": {},
     "output_type": "execute_result"
    }
   ],
   "source": [
    "lasso_reg=Lasso(alpha=10)\n",
    "lasso_reg.fit(x_train,y_train)\n"
   ]
  },
  {
   "cell_type": "code",
   "execution_count": 28,
   "metadata": {},
   "outputs": [],
   "source": [
    "ypred1=lasso_reg.predict(x_test)"
   ]
  },
  {
   "cell_type": "code",
   "execution_count": 29,
   "metadata": {},
   "outputs": [
    {
     "name": "stdout",
     "output_type": "stream",
     "text": [
      "Training Score 0.22979139065234877\n",
      "Testing Score 0.2451855132039349\n"
     ]
    }
   ],
   "source": [
    "train_test_scr(lasso_reg)"
   ]
  },
  {
   "cell_type": "code",
   "execution_count": 30,
   "metadata": {},
   "outputs": [
    {
     "name": "stdout",
     "output_type": "stream",
     "text": [
      "mae 0.08109082431433166\n",
      "mse 0.034404881683693433\n",
      "rmse 0.1854855295803245\n",
      "r2score 0.2451855132039349\n"
     ]
    }
   ],
   "source": [
    "reg_eval_metrics(y_test,ypred1)"
   ]
  },
  {
   "cell_type": "markdown",
   "metadata": {},
   "source": [
    "#### Ridge Regression"
   ]
  },
  {
   "cell_type": "code",
   "execution_count": 31,
   "metadata": {},
   "outputs": [
    {
     "data": {
      "text/plain": [
       "Ridge(alpha=10)"
      ]
     },
     "execution_count": 31,
     "metadata": {},
     "output_type": "execute_result"
    }
   ],
   "source": [
    "ridge_reg=Ridge(alpha=10)\n",
    "ridge_reg.fit(x_train,y_train)"
   ]
  },
  {
   "cell_type": "code",
   "execution_count": 32,
   "metadata": {},
   "outputs": [],
   "source": [
    "ypred2=ridge_reg.predict(x_test)"
   ]
  },
  {
   "cell_type": "code",
   "execution_count": 33,
   "metadata": {},
   "outputs": [
    {
     "name": "stdout",
     "output_type": "stream",
     "text": [
      "Training Score 0.4280378818959225\n",
      "Testing Score 0.24268368550736297\n"
     ]
    }
   ],
   "source": [
    "train_test_scr(ridge_reg)"
   ]
  },
  {
   "cell_type": "code",
   "execution_count": 34,
   "metadata": {},
   "outputs": [
    {
     "name": "stdout",
     "output_type": "stream",
     "text": [
      "mae 0.08909365465924879\n",
      "mse 0.03451891643978152\n",
      "rmse 0.1857926705760524\n",
      "r2score 0.24268368550736297\n"
     ]
    }
   ],
   "source": [
    "reg_eval_metrics(y_test,ypred2)"
   ]
  },
  {
   "cell_type": "markdown",
   "metadata": {},
   "source": [
    "### Classification"
   ]
  },
  {
   "cell_type": "code",
   "execution_count": 35,
   "metadata": {},
   "outputs": [],
   "source": [
    "from sklearn.linear_model import LogisticRegression\n",
    "from sklearn.metrics import confusion_matrix,accuracy_score\n",
    "from sklearn.metrics import classification_report"
   ]
  },
  {
   "cell_type": "code",
   "execution_count": 36,
   "metadata": {},
   "outputs": [],
   "source": [
    "def eval_model(y_test,ypred):\n",
    "    cm=confusion_matrix(y_test,ypred)\n",
    "    print(cm)\n",
    "    print('classification report',classification_report(y_test,ypred))\n",
    "    print('accuracy score',accuracy_score(y_test,ypred))\n",
    "    \n",
    "def mscore(model):\n",
    "    print('Training Score',model.score(x_train,y_train))\n",
    "    print('Testing Score',model.score(x_test,y_test))    "
   ]
  },
  {
   "cell_type": "markdown",
   "metadata": {},
   "source": [
    "#### Logistic Regression"
   ]
  },
  {
   "cell_type": "code",
   "execution_count": 37,
   "metadata": {},
   "outputs": [
    {
     "name": "stderr",
     "output_type": "stream",
     "text": [
      "C:\\Users\\HP\\Anaconda3\\lib\\site-packages\\sklearn\\linear_model\\_logistic.py:818: ConvergenceWarning: lbfgs failed to converge (status=1):\n",
      "STOP: TOTAL NO. of ITERATIONS REACHED LIMIT.\n",
      "\n",
      "Increase the number of iterations (max_iter) or scale the data as shown in:\n",
      "    https://scikit-learn.org/stable/modules/preprocessing.html\n",
      "Please also refer to the documentation for alternative solver options:\n",
      "    https://scikit-learn.org/stable/modules/linear_model.html#logistic-regression\n",
      "  extra_warning_msg=_LOGISTIC_SOLVER_CONVERGENCE_MSG,\n"
     ]
    },
    {
     "data": {
      "text/plain": [
       "LogisticRegression()"
      ]
     },
     "execution_count": 37,
     "metadata": {},
     "output_type": "execute_result"
    }
   ],
   "source": [
    "m3=LogisticRegression()\n",
    "m3.fit(x_train,y_train)"
   ]
  },
  {
   "cell_type": "code",
   "execution_count": 38,
   "metadata": {},
   "outputs": [],
   "source": [
    "ypred3=m3.predict(x_test)"
   ]
  },
  {
   "cell_type": "code",
   "execution_count": 39,
   "metadata": {},
   "outputs": [
    {
     "name": "stdout",
     "output_type": "stream",
     "text": [
      "[[178   1]\n",
      " [  9   0]]\n",
      "classification report               precision    recall  f1-score   support\n",
      "\n",
      "           0       0.95      0.99      0.97       179\n",
      "           1       0.00      0.00      0.00         9\n",
      "\n",
      "    accuracy                           0.95       188\n",
      "   macro avg       0.48      0.50      0.49       188\n",
      "weighted avg       0.91      0.95      0.93       188\n",
      "\n",
      "accuracy score 0.9468085106382979\n"
     ]
    }
   ],
   "source": [
    "eval_model(y_test,ypred3)"
   ]
  },
  {
   "cell_type": "code",
   "execution_count": 40,
   "metadata": {},
   "outputs": [
    {
     "name": "stdout",
     "output_type": "stream",
     "text": [
      "Training Score 0.9612817089452603\n",
      "Testing Score 0.9468085106382979\n"
     ]
    }
   ],
   "source": [
    "mscore(m3)"
   ]
  },
  {
   "cell_type": "markdown",
   "metadata": {},
   "source": [
    "#### Decision Tree"
   ]
  },
  {
   "cell_type": "code",
   "execution_count": 41,
   "metadata": {},
   "outputs": [],
   "source": [
    "from sklearn.tree import DecisionTreeClassifier"
   ]
  },
  {
   "cell_type": "code",
   "execution_count": 42,
   "metadata": {},
   "outputs": [],
   "source": [
    "clf=DecisionTreeClassifier()\n",
    "clf.fit(x_train,y_train)\n",
    "ypred4=clf.predict(x_test)"
   ]
  },
  {
   "cell_type": "code",
   "execution_count": 43,
   "metadata": {},
   "outputs": [
    {
     "name": "stdout",
     "output_type": "stream",
     "text": [
      "[[174   5]\n",
      " [  6   3]]\n",
      "classification report               precision    recall  f1-score   support\n",
      "\n",
      "           0       0.97      0.97      0.97       179\n",
      "           1       0.38      0.33      0.35         9\n",
      "\n",
      "    accuracy                           0.94       188\n",
      "   macro avg       0.67      0.65      0.66       188\n",
      "weighted avg       0.94      0.94      0.94       188\n",
      "\n",
      "accuracy score 0.9414893617021277\n"
     ]
    }
   ],
   "source": [
    "eval_model(y_test,ypred4)"
   ]
  },
  {
   "cell_type": "code",
   "execution_count": 44,
   "metadata": {},
   "outputs": [
    {
     "name": "stdout",
     "output_type": "stream",
     "text": [
      "Training Score 1.0\n",
      "Testing Score 0.9414893617021277\n"
     ]
    }
   ],
   "source": [
    "mscore(clf)"
   ]
  },
  {
   "cell_type": "markdown",
   "metadata": {},
   "source": [
    "#### Random Forest"
   ]
  },
  {
   "cell_type": "code",
   "execution_count": 45,
   "metadata": {},
   "outputs": [],
   "source": [
    "from sklearn.ensemble import RandomForestClassifier"
   ]
  },
  {
   "cell_type": "code",
   "execution_count": 46,
   "metadata": {},
   "outputs": [
    {
     "data": {
      "text/plain": [
       "RandomForestClassifier()"
      ]
     },
     "execution_count": 46,
     "metadata": {},
     "output_type": "execute_result"
    }
   ],
   "source": [
    "rfc=RandomForestClassifier()\n",
    "rfc.fit(x_train,y_train)"
   ]
  },
  {
   "cell_type": "code",
   "execution_count": 47,
   "metadata": {},
   "outputs": [],
   "source": [
    "ypred5=rfc.predict(x_test)"
   ]
  },
  {
   "cell_type": "code",
   "execution_count": 48,
   "metadata": {},
   "outputs": [
    {
     "name": "stdout",
     "output_type": "stream",
     "text": [
      "[[179   0]\n",
      " [  8   1]]\n",
      "classification report               precision    recall  f1-score   support\n",
      "\n",
      "           0       0.96      1.00      0.98       179\n",
      "           1       1.00      0.11      0.20         9\n",
      "\n",
      "    accuracy                           0.96       188\n",
      "   macro avg       0.98      0.56      0.59       188\n",
      "weighted avg       0.96      0.96      0.94       188\n",
      "\n",
      "accuracy score 0.9574468085106383\n"
     ]
    }
   ],
   "source": [
    "eval_model(y_test,ypred5)"
   ]
  },
  {
   "cell_type": "code",
   "execution_count": 49,
   "metadata": {},
   "outputs": [
    {
     "name": "stdout",
     "output_type": "stream",
     "text": [
      "Training Score 1.0\n",
      "Testing Score 0.9574468085106383\n"
     ]
    }
   ],
   "source": [
    "mscore(rfc)"
   ]
  },
  {
   "cell_type": "markdown",
   "metadata": {},
   "source": [
    "#### KNN"
   ]
  },
  {
   "cell_type": "code",
   "execution_count": 50,
   "metadata": {},
   "outputs": [
    {
     "data": {
      "text/plain": [
       "KNeighborsClassifier()"
      ]
     },
     "execution_count": 50,
     "metadata": {},
     "output_type": "execute_result"
    }
   ],
   "source": [
    "from sklearn.neighbors import KNeighborsClassifier\n",
    "neigh=KNeighborsClassifier()\n",
    "neigh.fit(x_train,y_train)"
   ]
  },
  {
   "cell_type": "code",
   "execution_count": 51,
   "metadata": {},
   "outputs": [],
   "source": [
    "ypred6=neigh.predict(x_test)"
   ]
  },
  {
   "cell_type": "code",
   "execution_count": 52,
   "metadata": {},
   "outputs": [
    {
     "name": "stdout",
     "output_type": "stream",
     "text": [
      "[[179   0]\n",
      " [  8   1]]\n",
      "classification report               precision    recall  f1-score   support\n",
      "\n",
      "           0       0.96      1.00      0.98       179\n",
      "           1       1.00      0.11      0.20         9\n",
      "\n",
      "    accuracy                           0.96       188\n",
      "   macro avg       0.98      0.56      0.59       188\n",
      "weighted avg       0.96      0.96      0.94       188\n",
      "\n",
      "accuracy score 0.9574468085106383\n"
     ]
    }
   ],
   "source": [
    "eval_model(y_test,ypred6)"
   ]
  },
  {
   "cell_type": "code",
   "execution_count": 53,
   "metadata": {},
   "outputs": [
    {
     "name": "stdout",
     "output_type": "stream",
     "text": [
      "Training Score 0.9612817089452603\n",
      "Testing Score 0.9574468085106383\n"
     ]
    }
   ],
   "source": [
    "mscore(neigh)"
   ]
  },
  {
   "cell_type": "markdown",
   "metadata": {},
   "source": [
    "### Bagging Classifier"
   ]
  },
  {
   "cell_type": "code",
   "execution_count": 54,
   "metadata": {},
   "outputs": [],
   "source": [
    "from sklearn.ensemble import BaggingClassifier\n",
    "from sklearn.tree import DecisionTreeClassifier"
   ]
  },
  {
   "cell_type": "code",
   "execution_count": 55,
   "metadata": {},
   "outputs": [],
   "source": [
    "def eval_model(y_test,ypred):\n",
    "    cm=confusion_matrix(y_test,ypred)\n",
    "    print(cm)\n",
    "    print('classification report',classification_report(y_test,ypred))\n",
    "    print('accuracy score',accuracy_score(y_test,ypred))\n",
    "    \n",
    "def mscore(model):\n",
    "    print('Training Score',model.score(x_train,y_train))\n",
    "    print('Testing Score',model.score(x_test,y_test))"
   ]
  },
  {
   "cell_type": "code",
   "execution_count": 56,
   "metadata": {},
   "outputs": [],
   "source": [
    "dt=DecisionTreeClassifier(criterion='gini',max_depth=10,min_samples_split=20)"
   ]
  },
  {
   "cell_type": "markdown",
   "metadata": {},
   "source": [
    "#### Model Building in Bagging Classifier"
   ]
  },
  {
   "cell_type": "code",
   "execution_count": 57,
   "metadata": {},
   "outputs": [
    {
     "data": {
      "text/plain": [
       "BaggingClassifier(base_estimator=DecisionTreeClassifier(max_depth=10,\n",
       "                                                        min_samples_split=20),\n",
       "                  max_features=49, max_samples=937, n_estimators=15,\n",
       "                  random_state=100)"
      ]
     },
     "execution_count": 57,
     "metadata": {},
     "output_type": "execute_result"
    }
   ],
   "source": [
    "bc_dt=BaggingClassifier(base_estimator=dt,n_estimators=15,max_samples=x.shape[0],max_features=x.shape[1],random_state=100)\n",
    "bc_dt.fit(x,y)"
   ]
  },
  {
   "cell_type": "code",
   "execution_count": 58,
   "metadata": {},
   "outputs": [
    {
     "name": "stdout",
     "output_type": "stream",
     "text": [
      "Training Score 0.9773030707610146\n",
      "Testing Score 0.9627659574468085\n"
     ]
    }
   ],
   "source": [
    "mscore(bc_dt)"
   ]
  },
  {
   "cell_type": "markdown",
   "metadata": {},
   "source": [
    "#### Reading the test dataset"
   ]
  },
  {
   "cell_type": "code",
   "execution_count": 59,
   "metadata": {},
   "outputs": [
    {
     "data": {
      "text/html": [
       "<div>\n",
       "<style scoped>\n",
       "    .dataframe tbody tr th:only-of-type {\n",
       "        vertical-align: middle;\n",
       "    }\n",
       "\n",
       "    .dataframe tbody tr th {\n",
       "        vertical-align: top;\n",
       "    }\n",
       "\n",
       "    .dataframe thead th {\n",
       "        text-align: right;\n",
       "    }\n",
       "</style>\n",
       "<table border=\"1\" class=\"dataframe\">\n",
       "  <thead>\n",
       "    <tr style=\"text-align: right;\">\n",
       "      <th></th>\n",
       "      <th>f_1</th>\n",
       "      <th>f_2</th>\n",
       "      <th>f_3</th>\n",
       "      <th>f_4</th>\n",
       "      <th>f_5</th>\n",
       "      <th>f_6</th>\n",
       "      <th>f_7</th>\n",
       "      <th>f_8</th>\n",
       "      <th>f_9</th>\n",
       "      <th>f_10</th>\n",
       "      <th>...</th>\n",
       "      <th>f_40</th>\n",
       "      <th>f_41</th>\n",
       "      <th>f_42</th>\n",
       "      <th>f_43</th>\n",
       "      <th>f_44</th>\n",
       "      <th>f_45</th>\n",
       "      <th>f_46</th>\n",
       "      <th>f_47</th>\n",
       "      <th>f_48</th>\n",
       "      <th>f_49</th>\n",
       "    </tr>\n",
       "  </thead>\n",
       "  <tbody>\n",
       "    <tr>\n",
       "      <th>143</th>\n",
       "      <td>133</td>\n",
       "      <td>50</td>\n",
       "      <td>1687.60</td>\n",
       "      <td>1498.74</td>\n",
       "      <td>9</td>\n",
       "      <td>125000</td>\n",
       "      <td>37.34</td>\n",
       "      <td>7.30</td>\n",
       "      <td>1980.0</td>\n",
       "      <td>0.20</td>\n",
       "      <td>...</td>\n",
       "      <td>55</td>\n",
       "      <td>509.90</td>\n",
       "      <td>304.14</td>\n",
       "      <td>207.43</td>\n",
       "      <td>66.43</td>\n",
       "      <td>2.46</td>\n",
       "      <td>0</td>\n",
       "      <td>3423.55</td>\n",
       "      <td>66.30</td>\n",
       "      <td>7.89</td>\n",
       "    </tr>\n",
       "    <tr>\n",
       "      <th>229</th>\n",
       "      <td>76</td>\n",
       "      <td>76</td>\n",
       "      <td>1010.70</td>\n",
       "      <td>741.46</td>\n",
       "      <td>84</td>\n",
       "      <td>190000</td>\n",
       "      <td>31.83</td>\n",
       "      <td>5.22</td>\n",
       "      <td>2880.0</td>\n",
       "      <td>0.16</td>\n",
       "      <td>...</td>\n",
       "      <td>39</td>\n",
       "      <td>1154.34</td>\n",
       "      <td>304.14</td>\n",
       "      <td>115.40</td>\n",
       "      <td>80.83</td>\n",
       "      <td>10.00</td>\n",
       "      <td>0</td>\n",
       "      <td>5442.91</td>\n",
       "      <td>65.81</td>\n",
       "      <td>7.32</td>\n",
       "    </tr>\n",
       "    <tr>\n",
       "      <th>116</th>\n",
       "      <td>106</td>\n",
       "      <td>116</td>\n",
       "      <td>780.74</td>\n",
       "      <td>1650.50</td>\n",
       "      <td>106</td>\n",
       "      <td>290000</td>\n",
       "      <td>36.33</td>\n",
       "      <td>9.36</td>\n",
       "      <td>3380.0</td>\n",
       "      <td>0.26</td>\n",
       "      <td>...</td>\n",
       "      <td>55</td>\n",
       "      <td>1298.08</td>\n",
       "      <td>316.23</td>\n",
       "      <td>175.10</td>\n",
       "      <td>86.84</td>\n",
       "      <td>7.41</td>\n",
       "      <td>0</td>\n",
       "      <td>11823.49</td>\n",
       "      <td>66.25</td>\n",
       "      <td>6.76</td>\n",
       "    </tr>\n",
       "    <tr>\n",
       "      <th>134</th>\n",
       "      <td>124</td>\n",
       "      <td>62</td>\n",
       "      <td>1697.23</td>\n",
       "      <td>1330.31</td>\n",
       "      <td>28</td>\n",
       "      <td>155000</td>\n",
       "      <td>37.00</td>\n",
       "      <td>7.42</td>\n",
       "      <td>2180.0</td>\n",
       "      <td>0.20</td>\n",
       "      <td>...</td>\n",
       "      <td>55</td>\n",
       "      <td>670.82</td>\n",
       "      <td>335.41</td>\n",
       "      <td>117.61</td>\n",
       "      <td>100.69</td>\n",
       "      <td>5.70</td>\n",
       "      <td>0</td>\n",
       "      <td>4148.59</td>\n",
       "      <td>66.22</td>\n",
       "      <td>7.96</td>\n",
       "    </tr>\n",
       "    <tr>\n",
       "      <th>596</th>\n",
       "      <td>28</td>\n",
       "      <td>31</td>\n",
       "      <td>278.06</td>\n",
       "      <td>221.13</td>\n",
       "      <td>142</td>\n",
       "      <td>251100</td>\n",
       "      <td>46.42</td>\n",
       "      <td>13.41</td>\n",
       "      <td>2276.0</td>\n",
       "      <td>0.29</td>\n",
       "      <td>...</td>\n",
       "      <td>67</td>\n",
       "      <td>1026.16</td>\n",
       "      <td>254.56</td>\n",
       "      <td>70.71</td>\n",
       "      <td>92.47</td>\n",
       "      <td>14.51</td>\n",
       "      <td>0</td>\n",
       "      <td>13758.25</td>\n",
       "      <td>65.73</td>\n",
       "      <td>7.12</td>\n",
       "    </tr>\n",
       "  </tbody>\n",
       "</table>\n",
       "<p>5 rows × 49 columns</p>\n",
       "</div>"
      ],
      "text/plain": [
       "     f_1  f_2      f_3      f_4  f_5     f_6    f_7    f_8     f_9  f_10  ...  \\\n",
       "143  133   50  1687.60  1498.74    9  125000  37.34   7.30  1980.0  0.20  ...   \n",
       "229   76   76  1010.70   741.46   84  190000  31.83   5.22  2880.0  0.16  ...   \n",
       "116  106  116   780.74  1650.50  106  290000  36.33   9.36  3380.0  0.26  ...   \n",
       "134  124   62  1697.23  1330.31   28  155000  37.00   7.42  2180.0  0.20  ...   \n",
       "596   28   31   278.06   221.13  142  251100  46.42  13.41  2276.0  0.29  ...   \n",
       "\n",
       "     f_40     f_41    f_42    f_43    f_44   f_45  f_46      f_47   f_48  f_49  \n",
       "143    55   509.90  304.14  207.43   66.43   2.46     0   3423.55  66.30  7.89  \n",
       "229    39  1154.34  304.14  115.40   80.83  10.00     0   5442.91  65.81  7.32  \n",
       "116    55  1298.08  316.23  175.10   86.84   7.41     0  11823.49  66.25  6.76  \n",
       "134    55   670.82  335.41  117.61  100.69   5.70     0   4148.59  66.22  7.96  \n",
       "596    67  1026.16  254.56   70.71   92.47  14.51     0  13758.25  65.73  7.12  \n",
       "\n",
       "[5 rows x 49 columns]"
      ]
     },
     "execution_count": 59,
     "metadata": {},
     "output_type": "execute_result"
    }
   ],
   "source": [
    "x_test.head()"
   ]
  },
  {
   "cell_type": "code",
   "execution_count": 60,
   "metadata": {},
   "outputs": [
    {
     "data": {
      "text/plain": [
       "(188, 49)"
      ]
     },
     "execution_count": 60,
     "metadata": {},
     "output_type": "execute_result"
    }
   ],
   "source": [
    "x_test.shape"
   ]
  },
  {
   "cell_type": "markdown",
   "metadata": {},
   "source": [
    "#### Generate the Prediction for the test dataset"
   ]
  },
  {
   "cell_type": "code",
   "execution_count": 61,
   "metadata": {},
   "outputs": [],
   "source": [
    "y_pred=bc_dt.predict(x_test)"
   ]
  },
  {
   "cell_type": "code",
   "execution_count": 62,
   "metadata": {},
   "outputs": [
    {
     "name": "stdout",
     "output_type": "stream",
     "text": [
      "(188,)\n"
     ]
    }
   ],
   "source": [
    "print(y_pred.shape)"
   ]
  },
  {
   "cell_type": "markdown",
   "metadata": {},
   "source": [
    "#### Creating a resultant dataframe for the prediction results"
   ]
  },
  {
   "cell_type": "code",
   "execution_count": 63,
   "metadata": {},
   "outputs": [
    {
     "data": {
      "text/html": [
       "<div>\n",
       "<style scoped>\n",
       "    .dataframe tbody tr th:only-of-type {\n",
       "        vertical-align: middle;\n",
       "    }\n",
       "\n",
       "    .dataframe tbody tr th {\n",
       "        vertical-align: top;\n",
       "    }\n",
       "\n",
       "    .dataframe thead th {\n",
       "        text-align: right;\n",
       "    }\n",
       "</style>\n",
       "<table border=\"1\" class=\"dataframe\">\n",
       "  <thead>\n",
       "    <tr style=\"text-align: right;\">\n",
       "      <th></th>\n",
       "      <th>taget</th>\n",
       "    </tr>\n",
       "  </thead>\n",
       "  <tbody>\n",
       "    <tr>\n",
       "      <th>0</th>\n",
       "      <td>0</td>\n",
       "    </tr>\n",
       "    <tr>\n",
       "      <th>1</th>\n",
       "      <td>0</td>\n",
       "    </tr>\n",
       "    <tr>\n",
       "      <th>2</th>\n",
       "      <td>0</td>\n",
       "    </tr>\n",
       "    <tr>\n",
       "      <th>3</th>\n",
       "      <td>0</td>\n",
       "    </tr>\n",
       "    <tr>\n",
       "      <th>4</th>\n",
       "      <td>0</td>\n",
       "    </tr>\n",
       "  </tbody>\n",
       "</table>\n",
       "</div>"
      ],
      "text/plain": [
       "   taget\n",
       "0      0\n",
       "1      0\n",
       "2      0\n",
       "3      0\n",
       "4      0"
      ]
     },
     "execution_count": 63,
     "metadata": {},
     "output_type": "execute_result"
    }
   ],
   "source": [
    "res=pd.DataFrame({'taget':y_pred})\n",
    "res.head()"
   ]
  },
  {
   "cell_type": "markdown",
   "metadata": {},
   "source": [
    "#### Save and load the best model"
   ]
  },
  {
   "cell_type": "code",
   "execution_count": 65,
   "metadata": {},
   "outputs": [
    {
     "data": {
      "text/plain": [
       "['best_model.pkl']"
      ]
     },
     "execution_count": 65,
     "metadata": {},
     "output_type": "execute_result"
    }
   ],
   "source": [
    "import joblib\n",
    "best_model=res\n",
    "joblib.dump(best_model,'best_model.pkl')"
   ]
  },
  {
   "cell_type": "markdown",
   "metadata": {},
   "source": [
    "#### Load the the saved model"
   ]
  },
  {
   "cell_type": "code",
   "execution_count": 67,
   "metadata": {},
   "outputs": [],
   "source": [
    "loaded_model=joblib.load('best_model.pkl')"
   ]
  },
  {
   "cell_type": "markdown",
   "metadata": {},
   "source": [
    "### From the analysis of the model we conclude that Bagging is best model."
   ]
  }
 ],
 "metadata": {
  "kernelspec": {
   "display_name": "Python 3",
   "language": "python",
   "name": "python3"
  },
  "language_info": {
   "codemirror_mode": {
    "name": "ipython",
    "version": 3
   },
   "file_extension": ".py",
   "mimetype": "text/x-python",
   "name": "python",
   "nbconvert_exporter": "python",
   "pygments_lexer": "ipython3",
   "version": "3.7.3"
  }
 },
 "nbformat": 4,
 "nbformat_minor": 2
}
